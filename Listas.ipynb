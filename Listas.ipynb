{
  "nbformat": 4,
  "nbformat_minor": 0,
  "metadata": {
    "colab": {
      "provenance": [],
      "authorship_tag": "ABX9TyMWdXjnjgrCQ4Mlbq/fHq/h",
      "include_colab_link": true
    },
    "kernelspec": {
      "name": "python3",
      "display_name": "Python 3"
    },
    "language_info": {
      "name": "python"
    }
  },
  "cells": [
    {
      "cell_type": "markdown",
      "metadata": {
        "id": "view-in-github",
        "colab_type": "text"
      },
      "source": [
        "<a href=\"https://colab.research.google.com/github/SamyrArchila/Listas/blob/main/Listas.ipynb\" target=\"_parent\"><img src=\"https://colab.research.google.com/assets/colab-badge.svg\" alt=\"Open In Colab\"/></a>"
      ]
    },
    {
      "cell_type": "markdown",
      "source": [
        "# Listas\n",
        "\n",
        "- Una lista hace referencia a una colección de datos que puede ser números, cadenas o algún otro tipo.\n",
        "\n",
        "- Son colecciones ordenadas de datos, lo que implica que importa el orden en el cual se encuentran sus elementos.\n",
        "\n",
        "- El primer elemento ocupa la posición 0, el segundo la 1 y así sucesivamente.\n",
        "\n",
        "- Son mutables: Una vez creada la lista, esta puede modificarse, es decir, se le pueden agregar o quitar elementos.\n",
        "\n",
        "- En Python están representadas con el tipo list, y para definirlas se necesita la siguiente sintaxis:\n",
        "\n",
        "`Nombre_lista = [valor1, valor2,...,valorn]`\n",
        "\n",
        "- Los elementos pueden ser de cualquier tipo incluso puede a ver tipos diferentes de en una misma lista\n",
        "\n",
        "- tambien es posible crear una lista usando el constructor `list`"
      ],
      "metadata": {
        "id": "WsIIyQjLCk6y"
      }
    },
    {
      "cell_type": "code",
      "source": [
        "# Ejemplo N°1\n",
        "\n",
        "# ==========================================================\n",
        "# Usando los [] y dando valores  para inicializar las listas\n",
        "# ==========================================================\n",
        "\n",
        "dias_laborables = [\"Lunes\", \"Martes\", \"Miercoles\", \"Jueves\", \"Viernes\"]\n",
        "print:(dias_laborables)\n",
        "\n",
        "colores_primarios = [\"Rojo\", \"Amarillo\", \"Azul\"]\n",
        "print(colores_primarios)\n",
        "\n",
        "precios = [205.30, 107.18, 25.450, 310.89, 170.23, 340]\n",
        "print(precios)\n",
        "\n",
        "print(type(precios))\n",
        "mezcolanza = [12, \"octubre\", 1492, True ]\n",
        "lista_vacia = []\n",
        "\n",
        "# =============================\n",
        "# Creando el constructor list()\n",
        "# =============================\n",
        "lista_vacia_2 = list()\n",
        "lista_3 = list(range(0,30,2))\n",
        "print(lista_3)\n",
        "lista_4 = list(range(29,0,-2))\n",
        "print(lista_4)\n",
        "lista_5 = list(\"Samyr Alejandro\")\n",
        "print(lista_5)\n",
        "frase = \"Samyr Alejandro Archila Guiza\"\n",
        "lista_6 = frase.split()\n",
        "print(lista_6)\n",
        "\n"
      ],
      "metadata": {
        "id": "_ZYiX1QjMggE"
      },
      "execution_count": null,
      "outputs": []
    },
    {
      "cell_type": "markdown",
      "source": [
        "## Operaciones\n",
        "\n",
        "### Operador +\n",
        "\n",
        "- concatenar o pegar los elementos al final de otro\n",
        "\n",
        "### Operador *\n",
        "\n",
        "- Repetir la secuencia de elementos de la lista tantas veces como indique el valor que acompaña el operador"
      ],
      "metadata": {
        "id": "vt84YVcAQvOj"
      }
    },
    {
      "cell_type": "code",
      "source": [
        "dias_laborables = [\"Lunes\", \"Martes\", \"Miercoles\", \"Jueves\", \"Viernes\"]\n",
        "\n",
        "colores_primarios = [\"Rojo\", \"Amarillo\", \"Azul\"]\n",
        "\n",
        "precios = [205.30, 107.18, 25.450, 310.89, 170.23, 340]\n",
        "\n",
        "# Acceso a los elementos de una lista\n",
        "\n",
        "print(dias_laborables[0])\n",
        "print(dias_laborables[-1])\n",
        "print(dias_laborables[-5])\n",
        "\n",
        "# Operador +\n",
        "\n",
        "fin_semana = [\"Sabado\", \"Domingo\"]\n",
        "semana = dias_laborables + fin_semana\n",
        "print(semana)\n",
        "\n",
        "# Operador *\n",
        "\n",
        "colores_repetidos = colores_primarios * 3\n",
        "print(colores_repetidos)\n",
        "\n",
        "\n",
        "\n"
      ],
      "metadata": {
        "id": "1lRL6RzBRa4G"
      },
      "execution_count": null,
      "outputs": []
    },
    {
      "cell_type": "markdown",
      "source": [
        "## Funciones asociadas a listas\n"
      ],
      "metadata": {
        "id": "ur7hESZHUISG"
      }
    },
    {
      "cell_type": "code",
      "source": [
        "dias_laborables = [\"Lunes\", \"Martes\", \"Miercoles\", \"Jueves\", \"Viernes\"]\n",
        "\n",
        "colores_primarios = [\"Rojo\", \"Amarillo\", \"Azul\"]\n",
        "\n",
        "precios = [205.30, 107.18, 25.450, 310.89, 170.23, 340]\n",
        "\n",
        "pares = lista_3 = list(range(0,30,2))\n",
        "\n",
        "impares = lista_4 = list(range(29,0,-2))\n",
        "\n",
        "colores_repetidos = colores_primarios * 3\n",
        "\n",
        "# append(): Agrega un elemento al final de una lista\n",
        "\n",
        "dias_laborables.append(\"Sabado\")\n",
        "print(dias_laborables)\n",
        "\n",
        "# len(): total de elementos de la lista\n",
        "\n",
        "print(\"Total de precios = \" , len(precios))\n",
        "\n",
        "# count(): Cuenta el numero de veces que aparece el elemento en la lista\n",
        "\n",
        "print(f\"El lunes aparece {dias_laborables.count('Lunes')} vez(veces)\")\n",
        "\n",
        "# Insert: Agrega en la posicion indicada por el indice el nuevo valor desplazando los demas elementos a hacia la derecha. Si el indice es mayor al tamaño de la lista lo agraga al final\n",
        "\n",
        "colores_primarios.insert(2, \"Verde\")\n",
        "print(colores_primarios)\n",
        "\n",
        "# remove: Quita el elemento de la lista. Si el elemento no esta lanza una excepsion\n",
        "\n",
        "dias_laborables.remove('Sabado')\n",
        "print(dias_laborables)\n",
        "\n",
        "# sort(): Ordena la lista de mayor a menor\n",
        "\n",
        "precios.sort()\n",
        "print(precios)\n",
        "\n",
        "# reverse(): Ordena la lista de mayor a menor\n",
        "\n",
        "precios.reverse()\n",
        "print(precios)\n",
        "precios.sort(reverse=True)\n",
        "print(precios)\n",
        "\n",
        "# reverse(): Invierte el contenido\n",
        "dias_laborables.reverse()\n",
        "print(dias_laborables)\n",
        "\n",
        "#pop(): Elimina el correspondiente al indice indicado\n",
        "precios.pop(2)\n",
        "print(precios)\n",
        "\n",
        "\n",
        "#clear(): Eliminar todos los elementos de una estructura de datos\n",
        "colores_primarios.clear()\n",
        "print(colores_primarios)\n",
        "\n",
        "\n",
        "#del(): un elemento específico de una lista o un par clave-valor en un diccionario\n",
        "del precios[0:2]\n",
        "print(precios)\n",
        "\n",
        "\n",
        "\n",
        "\n"
      ],
      "metadata": {
        "id": "Kz0xKMxfUVB0"
      },
      "execution_count": null,
      "outputs": []
    },
    {
      "cell_type": "markdown",
      "source": [
        "## Particion o divison de listas (slicing o rebanadas)\n",
        "\n",
        "- Se pueden generar sublistas a partir de una lista por medio de la particion (division) o slicing.\n",
        "\n",
        "- Para obtener una sublista se usa las sintaxis: ```Sublista = lista[inicion:fin:n]```"
      ],
      "metadata": {
        "id": "GyXDjKaif6PA"
      }
    },
    {
      "cell_type": "code",
      "source": [
        "from re import sub\n",
        "# Se crea una lista de numeros enteros\n",
        "\n",
        "lista_1 = [1,2,3,4,5,6]\n",
        "\n",
        "# sublista con los elementos  de las posiciones 0 o la 2 inclusive\n",
        "sublista_1 = lista_1[0:3]\n",
        "print(sublista_1)\n",
        "\n",
        "# sublista con los elementos 0n a la 3 inclusive\n",
        "\n",
        "sublista_2 = lista_1[:4]\n",
        "print(sublista_2)\n",
        "\n",
        "# sublista con los elementos 3 a la 5 inclusive\n",
        "\n",
        "sublista_3 = lista_1[3:]\n",
        "print(sublista_3)\n",
        "\n",
        "# sublista con los elementos desde el inicio hasta el final, con salto de a 2\n",
        "\n",
        "sublista_4 = lista_1[::2]\n",
        "print(sublista_4)\n",
        "\n",
        "\n"
      ],
      "metadata": {
        "colab": {
          "base_uri": "https://localhost:8080/"
        },
        "id": "KYObLNncgjkf",
        "outputId": "13cde2a0-8565-4425-d8b8-cc71b873960d"
      },
      "execution_count": 26,
      "outputs": [
        {
          "output_type": "stream",
          "name": "stdout",
          "text": [
            "[1, 2, 3]\n",
            "[1, 2, 3, 4]\n",
            "[4, 5, 6]\n",
            "[1, 3, 5]\n"
          ]
        }
      ]
    }
  ]
}